{
 "cells": [
  {
   "cell_type": "code",
   "execution_count": 8,
   "metadata": {},
   "outputs": [],
   "source": [
    "import numpy as np\n",
    "\n",
    "import pysam\n",
    "import vcf\n",
    "from Bio import Seq, SeqIO\n",
    "\n",
    "from keras.layers.convolutional import Conv1D"
   ]
  },
  {
   "cell_type": "code",
   "execution_count": 9,
   "metadata": {},
   "outputs": [],
   "source": [
    "# first create the tensors\n",
    "bam = \"/Users/tsato/workspace/dsde-deep-learning/takutoencoder/data/CHMI_CHMI3_WGS1_CHR20_CHR22.bam\"\n",
    "chrom = 20\n",
    "reference = \"/seq/references/Homo_sapiens_assembly19/v1/Homo_sapiens_assembly19.fasta\"\n",
    "gnomad = \"/dsde/working/davidben/resources/af-only-gnomad.raw.sites.vcf\""
   ]
  },
  {
   "cell_type": "code",
   "execution_count": 10,
   "metadata": {},
   "outputs": [],
   "source": [
    "sam_file = pysam.AlignmentFile(bam, \"rb\")\n",
    "vcf_ram = vcf.Reader(open(gnomad, 'r'))\n",
    "record_dict = SeqIO.to_dict(SeqIO.parse(reference, \"fasta\"))\n",
    "# contig = record_dict[args.chrom]"
   ]
  },
  {
   "cell_type": "code",
   "execution_count": 11,
   "metadata": {},
   "outputs": [
    {
     "data": {
      "text/plain": [
       "{'1': SeqRecord(seq=Seq('NNNNNNNNNNNNNNNNNNNNNNNNNNNNNNNNNNNNNNNNNNNNNNNNNNNNNN...NNN', SingleLetterAlphabet()), id='1', name='1', description='1 dna:chromosome chromosome:GRCh37:1:1:249250621:1', dbxrefs=[]),\n",
       " '2': SeqRecord(seq=Seq('NNNNNNNNNNNNNNNNNNNNNNNNNNNNNNNNNNNNNNNNNNNNNNNNNNNNNN...NNN', SingleLetterAlphabet()), id='2', name='2', description='2 dna:chromosome chromosome:GRCh37:2:1:243199373:1', dbxrefs=[]),\n",
       " '3': SeqRecord(seq=Seq('NNNNNNNNNNNNNNNNNNNNNNNNNNNNNNNNNNNNNNNNNNNNNNNNNNNNNN...NNN', SingleLetterAlphabet()), id='3', name='3', description='3 dna:chromosome chromosome:GRCh37:3:1:198022430:1', dbxrefs=[]),\n",
       " '4': SeqRecord(seq=Seq('NNNNNNNNNNNNNNNNNNNNNNNNNNNNNNNNNNNNNNNNNNNNNNNNNNNNNN...NNN', SingleLetterAlphabet()), id='4', name='4', description='4 dna:chromosome chromosome:GRCh37:4:1:191154276:1', dbxrefs=[]),\n",
       " '5': SeqRecord(seq=Seq('NNNNNNNNNNNNNNNNNNNNNNNNNNNNNNNNNNNNNNNNNNNNNNNNNNNNNN...NNN', SingleLetterAlphabet()), id='5', name='5', description='5 dna:chromosome chromosome:GRCh37:5:1:180915260:1', dbxrefs=[]),\n",
       " '6': SeqRecord(seq=Seq('NNNNNNNNNNNNNNNNNNNNNNNNNNNNNNNNNNNNNNNNNNNNNNNNNNNNNN...NNN', SingleLetterAlphabet()), id='6', name='6', description='6 dna:chromosome chromosome:GRCh37:6:1:171115067:1', dbxrefs=[]),\n",
       " '7': SeqRecord(seq=Seq('NNNNNNNNNNNNNNNNNNNNNNNNNNNNNNNNNNNNNNNNNNNNNNNNNNNNNN...NNN', SingleLetterAlphabet()), id='7', name='7', description='7 dna:chromosome chromosome:GRCh37:7:1:159138663:1', dbxrefs=[]),\n",
       " '8': SeqRecord(seq=Seq('NNNNNNNNNNNNNNNNNNNNNNNNNNNNNNNNNNNNNNNNNNNNNNNNNNNNNN...NNN', SingleLetterAlphabet()), id='8', name='8', description='8 dna:chromosome chromosome:GRCh37:8:1:146364022:1', dbxrefs=[]),\n",
       " '9': SeqRecord(seq=Seq('NNNNNNNNNNNNNNNNNNNNNNNNNNNNNNNNNNNNNNNNNNNNNNNNNNNNNN...NNN', SingleLetterAlphabet()), id='9', name='9', description='9 dna:chromosome chromosome:GRCh37:9:1:141213431:1', dbxrefs=[]),\n",
       " '10': SeqRecord(seq=Seq('NNNNNNNNNNNNNNNNNNNNNNNNNNNNNNNNNNNNNNNNNNNNNNNNNNNNNN...NNN', SingleLetterAlphabet()), id='10', name='10', description='10 dna:chromosome chromosome:GRCh37:10:1:135534747:1', dbxrefs=[]),\n",
       " '11': SeqRecord(seq=Seq('NNNNNNNNNNNNNNNNNNNNNNNNNNNNNNNNNNNNNNNNNNNNNNNNNNNNNN...NNN', SingleLetterAlphabet()), id='11', name='11', description='11 dna:chromosome chromosome:GRCh37:11:1:135006516:1', dbxrefs=[]),\n",
       " '12': SeqRecord(seq=Seq('NNNNNNNNNNNNNNNNNNNNNNNNNNNNNNNNNNNNNNNNNNNNNNNNNNNNNN...NNN', SingleLetterAlphabet()), id='12', name='12', description='12 dna:chromosome chromosome:GRCh37:12:1:133851895:1', dbxrefs=[]),\n",
       " '13': SeqRecord(seq=Seq('NNNNNNNNNNNNNNNNNNNNNNNNNNNNNNNNNNNNNNNNNNNNNNNNNNNNNN...NNN', SingleLetterAlphabet()), id='13', name='13', description='13 dna:chromosome chromosome:GRCh37:13:1:115169878:1', dbxrefs=[]),\n",
       " '14': SeqRecord(seq=Seq('NNNNNNNNNNNNNNNNNNNNNNNNNNNNNNNNNNNNNNNNNNNNNNNNNNNNNN...NNN', SingleLetterAlphabet()), id='14', name='14', description='14 dna:chromosome chromosome:GRCh37:14:1:107349540:1', dbxrefs=[]),\n",
       " '15': SeqRecord(seq=Seq('NNNNNNNNNNNNNNNNNNNNNNNNNNNNNNNNNNNNNNNNNNNNNNNNNNNNNN...NNN', SingleLetterAlphabet()), id='15', name='15', description='15 dna:chromosome chromosome:GRCh37:15:1:102531392:1', dbxrefs=[]),\n",
       " '16': SeqRecord(seq=Seq('NNNNNNNNNNNNNNNNNNNNNNNNNNNNNNNNNNNNNNNNNNNNNNNNNNNNNN...NNN', SingleLetterAlphabet()), id='16', name='16', description='16 dna:chromosome chromosome:GRCh37:16:1:90354753:1', dbxrefs=[]),\n",
       " '17': SeqRecord(seq=Seq('AAGCTTCTCACCCTGTTCCTGCATAGATAATTGCATGACAATTGCCTTGTCCCT...GGT', SingleLetterAlphabet()), id='17', name='17', description='17 dna:chromosome chromosome:GRCh37:17:1:81195210:1', dbxrefs=[]),\n",
       " '18': SeqRecord(seq=Seq('NNNNNNNNNNNNNNNNNNNNNNNNNNNNNNNNNNNNNNNNNNNNNNNNNNNNNN...NNN', SingleLetterAlphabet()), id='18', name='18', description='18 dna:chromosome chromosome:GRCh37:18:1:78077248:1', dbxrefs=[]),\n",
       " '19': SeqRecord(seq=Seq('NNNNNNNNNNNNNNNNNNNNNNNNNNNNNNNNNNNNNNNNNNNNNNNNNNNNNN...NNN', SingleLetterAlphabet()), id='19', name='19', description='19 dna:chromosome chromosome:GRCh37:19:1:59128983:1', dbxrefs=[]),\n",
       " '20': SeqRecord(seq=Seq('NNNNNNNNNNNNNNNNNNNNNNNNNNNNNNNNNNNNNNNNNNNNNNNNNNNNNN...NNN', SingleLetterAlphabet()), id='20', name='20', description='20 dna:chromosome chromosome:GRCh37:20:1:63025520:1', dbxrefs=[]),\n",
       " '21': SeqRecord(seq=Seq('NNNNNNNNNNNNNNNNNNNNNNNNNNNNNNNNNNNNNNNNNNNNNNNNNNNNNN...NNN', SingleLetterAlphabet()), id='21', name='21', description='21 dna:chromosome chromosome:GRCh37:21:1:48129895:1', dbxrefs=[]),\n",
       " '22': SeqRecord(seq=Seq('NNNNNNNNNNNNNNNNNNNNNNNNNNNNNNNNNNNNNNNNNNNNNNNNNNNNNN...NNN', SingleLetterAlphabet()), id='22', name='22', description='22 dna:chromosome chromosome:GRCh37:22:1:51304566:1', dbxrefs=[]),\n",
       " 'X': SeqRecord(seq=Seq('NNNNNNNNNNNNNNNNNNNNNNNNNNNNNNNNNNNNNNNNNNNNNNNNNNNNNN...NNN', SingleLetterAlphabet()), id='X', name='X', description='X dna:chromosome chromosome:GRCh37:X:1:155270560:1', dbxrefs=[]),\n",
       " 'Y': SeqRecord(seq=Seq('NNNNNNNNNNNNNNNNNNNNNNNNNNNNNNNNNNNNNNNNNNNNNNNNNNNNNN...NNN', SingleLetterAlphabet()), id='Y', name='Y', description='Y dna:chromosome chromosome:GRCh37:Y:2649521:59034049:1', dbxrefs=[]),\n",
       " 'MT': SeqRecord(seq=Seq('GATCACAGGTCTATCACCCTATTAACCACTCACGGGAGCTCTCCATGCATTTGG...ATG', SingleLetterAlphabet()), id='MT', name='MT', description='MT gi|251831106|ref|NC_012920.1| Homo sapiens mitochondrion, complete genome', dbxrefs=[]),\n",
       " 'GL000207.1': SeqRecord(seq=Seq('CATACATTTAATATACCCTCACCATACAGAATGTTCTTTCCCTATTACATAAGG...ATC', SingleLetterAlphabet()), id='GL000207.1', name='GL000207.1', description='GL000207.1 dna:supercontig supercontig::GL000207.1:1:4262:1', dbxrefs=[]),\n",
       " 'GL000226.1': SeqRecord(seq=Seq('GATCTTTCTTTTGATAGAGCAGTTCTGAAAAACACTTTTTGTTGAATCTGCAAG...ATC', SingleLetterAlphabet()), id='GL000226.1', name='GL000226.1', description='GL000226.1 dna:supercontig supercontig::GL000226.1:1:15008:1', dbxrefs=[]),\n",
       " 'GL000229.1': SeqRecord(seq=Seq('GCCGCTGTGGGATTTTCCGTGGGAGAGGTATGGGAGAGGACTGACGCGGCTTCC...ATC', SingleLetterAlphabet()), id='GL000229.1', name='GL000229.1', description='GL000229.1 dna:supercontig supercontig::GL000229.1:1:19913:1', dbxrefs=[]),\n",
       " 'GL000231.1': SeqRecord(seq=Seq('TTTAATGAATAAGTATTTACGCTATTAATATTTATAATATTGGTGCTATTATTT...ATC', SingleLetterAlphabet()), id='GL000231.1', name='GL000231.1', description='GL000231.1 dna:supercontig supercontig::GL000231.1:1:27386:1', dbxrefs=[]),\n",
       " 'GL000210.1': SeqRecord(seq=Seq('AAAAGAACAGCTGGCCTGGGCTTGCTGCTGGGATGCGGGTGGGGCTCTGGGGGG...TCA', SingleLetterAlphabet()), id='GL000210.1', name='GL000210.1', description='GL000210.1 dna:supercontig supercontig::GL000210.1:1:27682:1', dbxrefs=[]),\n",
       " 'GL000239.1': SeqRecord(seq=Seq('GATCTCTCTATCGGCCTGCTCTGGGCCACAGAGACTGGCCCTGACGACTTCTCA...ATC', SingleLetterAlphabet()), id='GL000239.1', name='GL000239.1', description='GL000239.1 dna:supercontig supercontig::GL000239.1:1:33824:1', dbxrefs=[]),\n",
       " 'GL000235.1': SeqRecord(seq=Seq('GATCTCTGAGGTGATGCAACTCTTGTCTAGGCACTGCCTACAGGGGACATTGGT...ATC', SingleLetterAlphabet()), id='GL000235.1', name='GL000235.1', description='GL000235.1 dna:supercontig supercontig::GL000235.1:1:34474:1', dbxrefs=[]),\n",
       " 'GL000201.1': SeqRecord(seq=Seq('GATCCCACCCAAAGCAGCAGCTTTTTTTTTTTTTTTTTTTTTTTTTGTTATTTT...ATC', SingleLetterAlphabet()), id='GL000201.1', name='GL000201.1', description='GL000201.1 dna:supercontig supercontig::GL000201.1:1:36148:1', dbxrefs=[]),\n",
       " 'GL000247.1': SeqRecord(seq=Seq('GATCTAAGTTTGATTTTTCTGTACAACTCCTTTTCTGAAGTTTTACTCATTTCC...ATC', SingleLetterAlphabet()), id='GL000247.1', name='GL000247.1', description='GL000247.1 dna:supercontig supercontig::GL000247.1:1:36422:1', dbxrefs=[]),\n",
       " 'GL000245.1': SeqRecord(seq=Seq('GATCAGATAGGCTTTTGGCTCATTGTAATGAGATGTTCCTATAAACCTAATTTG...ATC', SingleLetterAlphabet()), id='GL000245.1', name='GL000245.1', description='GL000245.1 dna:supercontig supercontig::GL000245.1:1:36651:1', dbxrefs=[]),\n",
       " 'GL000197.1': SeqRecord(seq=Seq('CAAGACTCCTCAGAGTAAGGCATCTGTCCTATTTTGTTCCCCACCCAGGAGTTG...TGG', SingleLetterAlphabet()), id='GL000197.1', name='GL000197.1', description='GL000197.1 dna:supercontig supercontig::GL000197.1:1:37175:1', dbxrefs=[]),\n",
       " 'GL000203.1': SeqRecord(seq=Seq('GATCCCACAGGATGTGTCTATCTTAAGATTTAGATAAATATTTAAATTTTTTTC...ATC', SingleLetterAlphabet()), id='GL000203.1', name='GL000203.1', description='GL000203.1 dna:supercontig supercontig::GL000203.1:1:37498:1', dbxrefs=[]),\n",
       " 'GL000246.1': SeqRecord(seq=Seq('GATCTTAAGCCTTTGCTGGATGCATCGTTTGCAAATATCTTCTCCCATTGTGTA...ATC', SingleLetterAlphabet()), id='GL000246.1', name='GL000246.1', description='GL000246.1 dna:supercontig supercontig::GL000246.1:1:38154:1', dbxrefs=[]),\n",
       " 'GL000249.1': SeqRecord(seq=Seq('GATCACCAAGGCTGGGAAATATTAGGGAAGGGGGGTTGCCAGACTCCGGACCTG...ATC', SingleLetterAlphabet()), id='GL000249.1', name='GL000249.1', description='GL000249.1 dna:supercontig supercontig::GL000249.1:1:38502:1', dbxrefs=[]),\n",
       " 'GL000196.1': SeqRecord(seq=Seq('GATCCCACCAGAGTAGAGGTGGCTATACTAACAACAGAGAAAACAGTCTAAATC...ATC', SingleLetterAlphabet()), id='GL000196.1', name='GL000196.1', description='GL000196.1 dna:supercontig supercontig::GL000196.1:1:38914:1', dbxrefs=[]),\n",
       " 'GL000248.1': SeqRecord(seq=Seq('GATCTGTCATTGTCTCCCATGCATGCTTCCCAGCATGCCTGCCTAGCCCCATTC...ATC', SingleLetterAlphabet()), id='GL000248.1', name='GL000248.1', description='GL000248.1 dna:supercontig supercontig::GL000248.1:1:39786:1', dbxrefs=[]),\n",
       " 'GL000244.1': SeqRecord(seq=Seq('GATCTGCGCACCTTGGCCTCCCAAAGTGCTGGGATTACAGGCATGAGCCACCGT...ATC', SingleLetterAlphabet()), id='GL000244.1', name='GL000244.1', description='GL000244.1 dna:supercontig supercontig::GL000244.1:1:39929:1', dbxrefs=[]),\n",
       " 'GL000238.1': SeqRecord(seq=Seq('GATCACAGTATCACAATTGACCTTAAAACAATAAATTTTATAATCAGTGTAAAT...ATC', SingleLetterAlphabet()), id='GL000238.1', name='GL000238.1', description='GL000238.1 dna:supercontig supercontig::GL000238.1:1:39939:1', dbxrefs=[]),\n",
       " 'GL000202.1': SeqRecord(seq=Seq('TGCCAGAAAAGGGTGTGTGTTGGAGGGGGTGTCTTTCACAATATATTTTTAATT...AGC', SingleLetterAlphabet()), id='GL000202.1', name='GL000202.1', description='GL000202.1 dna:supercontig supercontig::GL000202.1:1:40103:1', dbxrefs=[]),\n",
       " 'GL000234.1': SeqRecord(seq=Seq('GATCTCAATGCATCCAGATTCATAATATGTTTGCCTTTGAATGGAATGATCCAG...ATC', SingleLetterAlphabet()), id='GL000234.1', name='GL000234.1', description='GL000234.1 dna:supercontig supercontig::GL000234.1:1:40531:1', dbxrefs=[]),\n",
       " 'GL000232.1': SeqRecord(seq=Seq('GATCAGGCCCAGGAACTGCTGCCTTGGGTAGCTTTGGAACAAGGCTCCTGCATC...ATC', SingleLetterAlphabet()), id='GL000232.1', name='GL000232.1', description='GL000232.1 dna:supercontig supercontig::GL000232.1:1:40652:1', dbxrefs=[]),\n",
       " 'GL000206.1': SeqRecord(seq=Seq('GATCCCACCAGAGGCCATAAACAGATAGTTCAGAGCTATGAGAACCCAGGTGGC...ATC', SingleLetterAlphabet()), id='GL000206.1', name='GL000206.1', description='GL000206.1 dna:supercontig supercontig::GL000206.1:1:41001:1', dbxrefs=[]),\n",
       " 'GL000240.1': SeqRecord(seq=Seq('GATCAGTGGAGACCTGGTCAGCTGGGGCTTAGTGCTGGCCTGGTCAGCATGGGC...ATC', SingleLetterAlphabet()), id='GL000240.1', name='GL000240.1', description='GL000240.1 dna:supercontig supercontig::GL000240.1:1:41933:1', dbxrefs=[]),\n",
       " 'GL000236.1': SeqRecord(seq=Seq('GATCACATGGACACAGGAAGGGGAATATCACACTCTGGGGACTGTTGTGGGGTG...ATC', SingleLetterAlphabet()), id='GL000236.1', name='GL000236.1', description='GL000236.1 dna:supercontig supercontig::GL000236.1:1:41934:1', dbxrefs=[]),\n",
       " 'GL000241.1': SeqRecord(seq=Seq('GATCTGAAGACAAATCAGGGTTGCAGGATGGTTAAATATCTGCAAGTCAATAAA...ATC', SingleLetterAlphabet()), id='GL000241.1', name='GL000241.1', description='GL000241.1 dna:supercontig supercontig::GL000241.1:1:42152:1', dbxrefs=[]),\n",
       " 'GL000243.1': SeqRecord(seq=Seq('GATCTTCAGGCTCTGTCTCTGATTCTAGTGCTCTTGTTATTTCCACCATATCTG...ATC', SingleLetterAlphabet()), id='GL000243.1', name='GL000243.1', description='GL000243.1 dna:supercontig supercontig::GL000243.1:1:43341:1', dbxrefs=[]),\n",
       " 'GL000242.1': SeqRecord(seq=Seq('GATCATGCCTGGGACACACAGCAAGACCTTGTCCCTTAAAAAAAAAAAAAAAAA...ATC', SingleLetterAlphabet()), id='GL000242.1', name='GL000242.1', description='GL000242.1 dna:supercontig supercontig::GL000242.1:1:43523:1', dbxrefs=[]),\n",
       " 'GL000230.1': SeqRecord(seq=Seq('GATCCTTTGAGCCCAGGAGTTTGAGACCACCCTGGGAAACATGGCAAAACCCTC...ATC', SingleLetterAlphabet()), id='GL000230.1', name='GL000230.1', description='GL000230.1 dna:supercontig supercontig::GL000230.1:1:43691:1', dbxrefs=[]),\n",
       " 'GL000237.1': SeqRecord(seq=Seq('GATCTCAGGAGGCGGAGGTTGCAGTGATCGGTGGCCATAGAAGCCCTCCTGAGC...ATC', SingleLetterAlphabet()), id='GL000237.1', name='GL000237.1', description='GL000237.1 dna:supercontig supercontig::GL000237.1:1:45867:1', dbxrefs=[]),\n",
       " 'GL000233.1': SeqRecord(seq=Seq('GATCCCATTTGTCAATTTTGGATTTTGTGGCCATTGCTTCTGTTGTTTTAGACA...ATC', SingleLetterAlphabet()), id='GL000233.1', name='GL000233.1', description='GL000233.1 dna:supercontig supercontig::GL000233.1:1:45941:1', dbxrefs=[]),\n",
       " 'GL000204.1': SeqRecord(seq=Seq('GATCAGGAAGAGTCCTGGGGGGCGGGGGGCGAGCACAGGCAGTGGAAGGGAAGC...ATC', SingleLetterAlphabet()), id='GL000204.1', name='GL000204.1', description='GL000204.1 dna:supercontig supercontig::GL000204.1:1:81310:1', dbxrefs=[]),\n",
       " 'GL000198.1': SeqRecord(seq=Seq('GAATTCGTCTCATAGAGTTGAACCTTTCTTTTCATTGATCAGTTTGGAAACACT...TTC', SingleLetterAlphabet()), id='GL000198.1', name='GL000198.1', description='GL000198.1 dna:supercontig supercontig::GL000198.1:1:90085:1', dbxrefs=[]),\n",
       " 'GL000208.1': SeqRecord(seq=Seq('GAATTCTTCAAAGAGTTCCAGATATCCACAGGCAGATTCTACAAAAGAAGTGTT...GAT', SingleLetterAlphabet()), id='GL000208.1', name='GL000208.1', description='GL000208.1 dna:supercontig supercontig::GL000208.1:1:92689:1', dbxrefs=[]),\n",
       " 'GL000191.1': SeqRecord(seq=Seq('GATCCACCTGCCTCAGCCTCCCAGAGTGCTGGGATTATAGGTGTGAGCCACTGC...ATC', SingleLetterAlphabet()), id='GL000191.1', name='GL000191.1', description='GL000191.1 dna:supercontig supercontig::GL000191.1:1:106433:1', dbxrefs=[]),\n",
       " 'GL000227.1': SeqRecord(seq=Seq('GATCCAACTATATTGTCCACAAGATACTCACTTTAGATCAAAATACACAATGAG...ATC', SingleLetterAlphabet()), id='GL000227.1', name='GL000227.1', description='GL000227.1 dna:supercontig supercontig::GL000227.1:1:128374:1', dbxrefs=[]),\n",
       " 'GL000228.1': SeqRecord(seq=Seq('GAATTCTGTGCATTTTGTTTGATGGAATTTGGTATGTTTACCAAAATGGCAGAA...TTC', SingleLetterAlphabet()), id='GL000228.1', name='GL000228.1', description='GL000228.1 dna:supercontig supercontig::GL000228.1:1:129120:1', dbxrefs=[]),\n",
       " 'GL000214.1': SeqRecord(seq=Seq('GAATTCAGTGCAATTCAAAACAGTAATTTGTGGGAAAAATTAGATATGCAGATA...TTC', SingleLetterAlphabet()), id='GL000214.1', name='GL000214.1', description='GL000214.1 dna:supercontig supercontig::GL000214.1:1:137718:1', dbxrefs=[]),\n",
       " 'GL000221.1': SeqRecord(seq=Seq('GAATTCGTTGAGGAGCTTCTGGAAAGTGCACATTCTGACTCAGCAGGTATTGGA...TTC', SingleLetterAlphabet()), id='GL000221.1', name='GL000221.1', description='GL000221.1 dna:supercontig supercontig::GL000221.1:1:155397:1', dbxrefs=[]),\n",
       " 'GL000209.1': SeqRecord(seq=Seq('GATCAGCTTTCCCTTTGAAATCAGAGTACTAATCTGACTCATTGTTCCCTGAAT...ATC', SingleLetterAlphabet()), id='GL000209.1', name='GL000209.1', description='GL000209.1 dna:supercontig supercontig::GL000209.1:1:159169:1', dbxrefs=[]),\n",
       " 'GL000218.1': SeqRecord(seq=Seq('GAATTCATGTAAAGAAAGACCATGGGTGTTTGTACTGGATTTAGTATTCATCAT...TTC', SingleLetterAlphabet()), id='GL000218.1', name='GL000218.1', description='GL000218.1 dna:supercontig supercontig::GL000218.1:1:161147:1', dbxrefs=[]),\n",
       " 'GL000220.1': SeqRecord(seq=Seq('GAATTCAATACTTAAACATAAAACCTAATAAAATTCTTAGAAGTAAACATAAGG...TTC', SingleLetterAlphabet()), id='GL000220.1', name='GL000220.1', description='GL000220.1 dna:supercontig supercontig::GL000220.1:1:161802:1', dbxrefs=[]),\n",
       " 'GL000213.1': SeqRecord(seq=Seq('GAATTCAGTGAATGAGCCAAGATTCTCCAGAAACCGCTCAGCTTTGCAGTGATA...TTC', SingleLetterAlphabet()), id='GL000213.1', name='GL000213.1', description='GL000213.1 dna:supercontig supercontig::GL000213.1:1:164239:1', dbxrefs=[]),\n",
       " 'GL000211.1': SeqRecord(seq=Seq('GAATTCTTTTTCAAGTAAGTCAGGGATTTCTTCTTAGTTTGGATCCATTGCTGG...TTC', SingleLetterAlphabet()), id='GL000211.1', name='GL000211.1', description='GL000211.1 dna:supercontig supercontig::GL000211.1:1:166566:1', dbxrefs=[]),\n",
       " 'GL000199.1': SeqRecord(seq=Seq('GAATTCTATATGAGGGAGAAAAACTCAGAACCTAGCAGCAGTGTTCTGGAATCC...TTC', SingleLetterAlphabet()), id='GL000199.1', name='GL000199.1', description='GL000199.1 dna:supercontig supercontig::GL000199.1:1:169874:1', dbxrefs=[]),\n",
       " 'GL000217.1': SeqRecord(seq=Seq('GAATTCACTGGTCTTACCATATTCCCCATCTTCCTGAAGCAGCTGGATTGATAG...TTC', SingleLetterAlphabet()), id='GL000217.1', name='GL000217.1', description='GL000217.1 dna:supercontig supercontig::GL000217.1:1:172149:1', dbxrefs=[]),\n",
       " 'GL000216.1': SeqRecord(seq=Seq('GAATTCCATTGCATTCCATTCCATTTCATTCTATTACACTCCATTCCATTCCTT...TTC', SingleLetterAlphabet()), id='GL000216.1', name='GL000216.1', description='GL000216.1 dna:supercontig supercontig::GL000216.1:1:172294:1', dbxrefs=[]),\n",
       " 'GL000215.1': SeqRecord(seq=Seq('GAATTCCATAATATAAAGTTACTTTTTTAAAAAAAAATTAGACAATCAATTATC...TTC', SingleLetterAlphabet()), id='GL000215.1', name='GL000215.1', description='GL000215.1 dna:supercontig supercontig::GL000215.1:1:172545:1', dbxrefs=[]),\n",
       " 'GL000205.1': SeqRecord(seq=Seq('GAATTCTTGGTATTATTCCTTTTGAGTACCCCTATTTATGAGAGAGAAAACGAA...TTC', SingleLetterAlphabet()), id='GL000205.1', name='GL000205.1', description='GL000205.1 dna:supercontig supercontig::GL000205.1:1:174588:1', dbxrefs=[]),\n",
       " 'GL000219.1': SeqRecord(seq=Seq('GAATTCTACCTGTGGGACAAACATTGAGACCTTTGTAACATTGTTCTGGAATGC...TTC', SingleLetterAlphabet()), id='GL000219.1', name='GL000219.1', description='GL000219.1 dna:supercontig supercontig::GL000219.1:1:179198:1', dbxrefs=[]),\n",
       " 'GL000224.1': SeqRecord(seq=Seq('GAATTCTGTTGATGATGGATGTGAGAGTGGTGAAGCCCTGCGGGATGATGTAGA...TTC', SingleLetterAlphabet()), id='GL000224.1', name='GL000224.1', description='GL000224.1 dna:supercontig supercontig::GL000224.1:1:179693:1', dbxrefs=[]),\n",
       " 'GL000223.1': SeqRecord(seq=Seq('GAATTCTCTGATGTCGAGTGAGGTTGGAGGCACGGCTAAAGGCCTTTCCACACT...TTC', SingleLetterAlphabet()), id='GL000223.1', name='GL000223.1', description='GL000223.1 dna:supercontig supercontig::GL000223.1:1:180455:1', dbxrefs=[]),\n",
       " 'GL000195.1': SeqRecord(seq=Seq('GAATTCCTCGTTCACACAGTTTCTTAAGCTTCCTGGGATGCGACCTGTGATGGC...TTC', SingleLetterAlphabet()), id='GL000195.1', name='GL000195.1', description='GL000195.1 dna:supercontig supercontig::GL000195.1:1:182896:1', dbxrefs=[]),\n",
       " 'GL000212.1': SeqRecord(seq=Seq('GAATTCCTCCTTGCACATTTCTGCTTTATCTCATCTACACAGAAGTGATCCAAT...TTC', SingleLetterAlphabet()), id='GL000212.1', name='GL000212.1', description='GL000212.1 dna:supercontig supercontig::GL000212.1:1:186858:1', dbxrefs=[]),\n",
       " 'GL000222.1': SeqRecord(seq=Seq('GAATTCTATGTGAGGGACACACATTCAAAACCCAGCAGCAGTATTCTGGAATCC...TTC', SingleLetterAlphabet()), id='GL000222.1', name='GL000222.1', description='GL000222.1 dna:supercontig supercontig::GL000222.1:1:186861:1', dbxrefs=[]),\n",
       " 'GL000200.1': SeqRecord(seq=Seq('TGGGTTGATAGGTTTTTAAGAATTCTTTTATGACTTCAAAAGTGTCACTTCGTT...CCT', SingleLetterAlphabet()), id='GL000200.1', name='GL000200.1', description='GL000200.1 dna:supercontig supercontig::GL000200.1:1:187035:1', dbxrefs=[]),\n",
       " 'GL000193.1': SeqRecord(seq=Seq('GAATTCATTTCTTTGATTTGTAGAGTGGCAGGGTACCTAAAGTTAACATTTGTC...TTC', SingleLetterAlphabet()), id='GL000193.1', name='GL000193.1', description='GL000193.1 dna:supercontig supercontig::GL000193.1:1:189789:1', dbxrefs=[]),\n",
       " 'GL000194.1': SeqRecord(seq=Seq('GATCCCTGCCCTAAAACTTTCCCCCCTCATGTCCAGCAAATGCTGCATGGAGCC...ATC', SingleLetterAlphabet()), id='GL000194.1', name='GL000194.1', description='GL000194.1 dna:supercontig supercontig::GL000194.1:1:191469:1', dbxrefs=[]),\n",
       " 'GL000225.1': SeqRecord(seq=Seq('GAATTCTCACATGTCTCTGCACTGATCACCCAGGTGATGTAACTCCTGTCTAGG...TTC', SingleLetterAlphabet()), id='GL000225.1', name='GL000225.1', description='GL000225.1 dna:supercontig supercontig::GL000225.1:1:211173:1', dbxrefs=[]),\n",
       " 'GL000192.1': SeqRecord(seq=Seq('GAATTCATTCACCATTATTCTTTTATAATATTGCTATTTTATTATTCTTGATCA...TTC', SingleLetterAlphabet()), id='GL000192.1', name='GL000192.1', description='GL000192.1 dna:supercontig supercontig::GL000192.1:1:547496:1', dbxrefs=[]),\n",
       " 'NC_007605': SeqRecord(seq=Seq('AGAATTCGTCTTGCTCTATTCACCCTTACTTTTCTTCTTGCCCGTTCTCTTTCT...TTT', SingleLetterAlphabet()), id='NC_007605', name='NC_007605', description='NC_007605 NC_007605.1 \"EBV type 1\"', dbxrefs=[])}"
      ]
     },
     "execution_count": 11,
     "metadata": {},
     "output_type": "execute_result"
    }
   ],
   "source": [
    "# then define and train the model"
   ]
  },
  {
   "cell_type": "code",
   "execution_count": null,
   "metadata": {},
   "outputs": [],
   "source": []
  }
 ],
 "metadata": {
  "kernelspec": {
   "display_name": "Python 3",
   "language": "python",
   "name": "python3"
  },
  "language_info": {
   "codemirror_mode": {
    "name": "ipython",
    "version": 3
   },
   "file_extension": ".py",
   "mimetype": "text/x-python",
   "name": "python",
   "nbconvert_exporter": "python",
   "pygments_lexer": "ipython3",
   "version": "3.6.2"
  }
 },
 "nbformat": 4,
 "nbformat_minor": 2
}
