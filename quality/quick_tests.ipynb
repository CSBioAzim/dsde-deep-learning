{
 "cells": [
  {
   "cell_type": "code",
   "execution_count": 12,
   "metadata": {},
   "outputs": [
    {
     "name": "stdout",
     "output_type": "stream",
     "text": [
      "The autoreload extension is already loaded. To reload it, use:\n",
      "  %reload_ext autoreload\n"
     ]
    }
   ],
   "source": [
    "%matplotlib inline \n",
    "%load_ext autoreload\n",
    "%autoreload 2 # https://ipython.org/ipython-doc/3/config/extensions/autoreload.html\n",
    "\n",
    "import numpy as np\n",
    "import numpy.ma as ma\n",
    "import h5py\n",
    "\n",
    "import matplotlib.pyplot as plt\n",
    "from keras.models import load_model\n",
    "\n",
    "\n",
    "import sys\n",
    "sys.path.insert(0, '../api_tutorials')\n",
    "from bqsr_cnn import parse_args, read_to_bqsr_tensor, bqsr_get_metric_dict, bqsr_bed_file_to_dict, BQSR_LABELS\n",
    "from bqsr_cnn import bqsr_get_train_valid_test_paths_all, bqsr_label_tensors_generator, OQ_TENSOR_NAME, BQSR_TENSOR_NAME\n",
    "from bqsr_cnn import label_bases_model_from_args\n",
    "from recal_utils import tensor_to_quality_array, KL_divergence"
   ]
  },
  {
   "cell_type": "code",
   "execution_count": 13,
   "metadata": {},
   "outputs": [
    {
     "name": "stdout",
     "output_type": "stream",
     "text": [
      "Arguments are Namespace(activation='relu', activity_weight=1.0, annotation_set='_', annotations=[], bam_file=None, base_quality_mode='phot', batch_size=32, bed_file=None, channels_last=False, chrom=None, conv_batch_normalize=False, conv_dropout=0.0, conv_layers=[128, 96, 64, 48], conv_widths=[5, 5, 5, 5], data_dir=None, downsample_perfect_reads=0.0, end_pos=0, epochs=25, fc_batch_normalize=False, fc_dropout=0.0, fc_initializer='glorot_normal', fc_layers=[32], fps=1, id='no_id', ignore_vcf=None, input_symbol_set='dna_annotations', input_symbols={'A': 0, 'C': 1, 'G': 2, 'T': 3, 'pair': 4, 'cycle': 5, 'mq': 6}, inspect_model=False, inspect_show_labels=False, iterations=5, jitter=0.0, kernel_initializer='glorot_normal', l1=0.0, l2=0.0, label_smoothing=0.0, label_weights=[0.5, 0.5], labels={'GOOD_BASE': 0, 'BAD_BASE': 1}, learning_rate=0.01, map_input_to_logspace=False, max_pools=[], maxfun=9, mode=None, model=None, out='recalibrated.bam', output_dir='./weights/', padding='same', patience=4, random_seed=12878, read_limit=128, reference_fasta='/dsde/data/deep/vqsr/Homo_sapiens_assembly19.fasta', remove_reads_with_error=True, resnet=False, samples=500, semantics_json='', skip_connections=[0, 0, 0, 0], spatial_dropout=False, start_pos=0, tensor_name='bqsr', test_contigs=['20', '21', 'chr20', 'chr21'], test_ratio=0.2, total_variation=1e-05, training_steps=80, use_original_quality=True, valid_contigs=['18', '19', 'chr18', 'chr19'], valid_ratio=0.1, validation_steps=40, weights_hd5='', window_offset=2, window_size=151)\n"
     ]
    }
   ],
   "source": [
    "sys.argv = ['bqsr_cnn']\n",
    "\n",
    "args = parse_args()\n",
    "args.skip_connections = [0, -1, -2, -3, -4, -5]\n",
    "args.conv_layers = [128, 128, 128, 128, 128, 128]"
   ]
  },
  {
   "cell_type": "code",
   "execution_count": 3,
   "metadata": {
    "scrolled": true
   },
   "outputs": [
    {
     "name": "stdout",
     "output_type": "stream",
     "text": [
      "__________________________________________________________________________________________________\n",
      "Layer (type)                    Output Shape         Param #     Connected to                     \n",
      "==================================================================================================\n",
      "bqsr (InputLayer)               (None, 151, 7)       0                                            \n",
      "__________________________________________________________________________________________________\n",
      "conv1d_1 (Conv1D)               (None, 151, 128)     4608        bqsr[0][0]                       \n",
      "__________________________________________________________________________________________________\n",
      "conv1d_2 (Conv1D)               (None, 151, 128)     82048       conv1d_1[0][0]                   \n",
      "__________________________________________________________________________________________________\n",
      "add_1 (Add)                     (None, 151, 128)     0           conv1d_2[0][0]                   \n",
      "                                                                 conv1d_1[0][0]                   \n",
      "__________________________________________________________________________________________________\n",
      "conv1d_3 (Conv1D)               (None, 151, 128)     82048       add_1[0][0]                      \n",
      "__________________________________________________________________________________________________\n",
      "add_2 (Add)                     (None, 151, 128)     0           conv1d_3[0][0]                   \n",
      "                                                                 conv1d_1[0][0]                   \n",
      "__________________________________________________________________________________________________\n",
      "conv1d_4 (Conv1D)               (None, 151, 128)     82048       add_2[0][0]                      \n",
      "__________________________________________________________________________________________________\n",
      "add_3 (Add)                     (None, 151, 128)     0           conv1d_4[0][0]                   \n",
      "                                                                 conv1d_1[0][0]                   \n",
      "__________________________________________________________________________________________________\n",
      "conv1d_5 (Conv1D)               (None, 151, 2)       258         add_3[0][0]                      \n",
      "__________________________________________________________________________________________________\n",
      "bqsr_labels (Activation)        (None, 151, 2)       0           conv1d_5[0][0]                   \n",
      "==================================================================================================\n",
      "Total params: 251,010\n",
      "Trainable params: 251,010\n",
      "Non-trainable params: 0\n",
      "__________________________________________________________________________________________________\n"
     ]
    }
   ],
   "source": [
    "model = label_bases_model_from_args(args)"
   ]
  },
  {
   "cell_type": "code",
   "execution_count": 25,
   "metadata": {
    "collapsed": true
   },
   "outputs": [],
   "source": [
    "args.data_dir ='/home/tsato/data/tensors/remove-all-error-reads-mini/'\n",
    "# args.data_dir = '/home/tsato/data/tensors/remove-q2/'\n",
    "train_paths, valid_paths, test_paths = bqsr_get_train_valid_test_paths_all(args.data_dir)\n",
    "generate_train = bqsr_label_tensors_generator(args, train_paths)"
   ]
  },
  {
   "cell_type": "code",
   "execution_count": 27,
   "metadata": {},
   "outputs": [
    {
     "data": {
      "text/plain": [
       "({'oq': array([[[  9.99369043e-01,   2.10319115e-04,   2.10319115e-04, ...,\n",
       "             1.00000000e+00,   0.00000000e+00,   1.00000000e+00],\n",
       "          [  2.10319115e-04,   9.99369043e-01,   2.10319115e-04, ...,\n",
       "             1.00000000e+00,   6.62251656e-03,   1.00000000e+00],\n",
       "          [  6.65087438e-05,   6.65087438e-05,   6.65087438e-05, ...,\n",
       "             1.00000000e+00,   1.32450331e-02,   1.00000000e+00],\n",
       "          ..., \n",
       "          [  2.10319115e-05,   9.99936904e-01,   2.10319115e-05, ...,\n",
       "             1.00000000e+00,   9.80132450e-01,   1.00000000e+00],\n",
       "          [  9.99936904e-01,   2.10319115e-05,   2.10319115e-05, ...,\n",
       "             1.00000000e+00,   9.86754967e-01,   1.00000000e+00],\n",
       "          [  2.10319115e-04,   2.10319115e-04,   2.10319115e-04, ...,\n",
       "             1.00000000e+00,   9.93377483e-01,   1.00000000e+00]],\n",
       "  \n",
       "         [[  2.10319115e-04,   9.99369043e-01,   2.10319115e-04, ...,\n",
       "             1.00000000e+00,   0.00000000e+00,   1.00000000e+00],\n",
       "          [  9.99369043e-01,   2.10319115e-04,   2.10319115e-04, ...,\n",
       "             1.00000000e+00,   6.62251656e-03,   1.00000000e+00],\n",
       "          [  6.65087438e-05,   6.65087438e-05,   6.65087438e-05, ...,\n",
       "             1.00000000e+00,   1.32450331e-02,   1.00000000e+00],\n",
       "          ..., \n",
       "          [  9.99936904e-01,   2.10319115e-05,   2.10319115e-05, ...,\n",
       "             1.00000000e+00,   9.80132450e-01,   1.00000000e+00],\n",
       "          [  9.99936904e-01,   2.10319115e-05,   2.10319115e-05, ...,\n",
       "             1.00000000e+00,   9.86754967e-01,   1.00000000e+00],\n",
       "          [  2.10319115e-05,   9.99936904e-01,   2.10319115e-05, ...,\n",
       "             1.00000000e+00,   9.93377483e-01,   1.00000000e+00]],\n",
       "  \n",
       "         [[  2.10319115e-04,   2.10319115e-04,   2.10319115e-04, ...,\n",
       "             1.00000000e+00,   0.00000000e+00,   1.00000000e+00],\n",
       "          [  2.10319115e-04,   2.10319115e-04,   9.99369043e-01, ...,\n",
       "             1.00000000e+00,   6.62251656e-03,   1.00000000e+00],\n",
       "          [  9.99800474e-01,   6.65087438e-05,   6.65087438e-05, ...,\n",
       "             1.00000000e+00,   1.32450331e-02,   1.00000000e+00],\n",
       "          ..., \n",
       "          [  6.65087438e-05,   6.65087438e-05,   6.65087438e-05, ...,\n",
       "             1.00000000e+00,   9.80132450e-01,   1.00000000e+00],\n",
       "          [  6.65087438e-05,   6.65087438e-05,   6.65087438e-05, ...,\n",
       "             1.00000000e+00,   9.86754967e-01,   1.00000000e+00],\n",
       "          [  2.10319115e-04,   2.10319115e-04,   9.99369043e-01, ...,\n",
       "             1.00000000e+00,   9.93377483e-01,   1.00000000e+00]],\n",
       "  \n",
       "         ..., \n",
       "         [[  9.98004738e-01,   6.65087438e-04,   6.65087438e-04, ...,\n",
       "             0.00000000e+00,   0.00000000e+00,   1.00000000e+00],\n",
       "          [  9.99369043e-01,   2.10319115e-04,   2.10319115e-04, ...,\n",
       "             0.00000000e+00,   6.62251656e-03,   1.00000000e+00],\n",
       "          [  9.20567177e-01,   2.64776078e-02,   2.64776078e-02, ...,\n",
       "             0.00000000e+00,   1.32450331e-02,   1.00000000e+00],\n",
       "          ..., \n",
       "          [  9.93690427e-01,   2.10319115e-03,   2.10319115e-03, ...,\n",
       "             0.00000000e+00,   9.80132450e-01,   1.00000000e+00],\n",
       "          [  6.65087438e-04,   9.98004738e-01,   6.65087438e-04, ...,\n",
       "             0.00000000e+00,   9.86754967e-01,   1.00000000e+00],\n",
       "          [  9.93690427e-01,   2.10319115e-03,   2.10319115e-03, ...,\n",
       "             0.00000000e+00,   9.93377483e-01,   1.00000000e+00]],\n",
       "  \n",
       "         [[  2.10319115e-04,   2.10319115e-04,   9.99369043e-01, ...,\n",
       "             1.00000000e+00,   0.00000000e+00,   1.00000000e+00],\n",
       "          [  9.99369043e-01,   2.10319115e-04,   2.10319115e-04, ...,\n",
       "             1.00000000e+00,   6.62251656e-03,   1.00000000e+00],\n",
       "          [  6.65087438e-05,   6.65087438e-05,   6.65087438e-05, ...,\n",
       "             1.00000000e+00,   1.32450331e-02,   1.00000000e+00],\n",
       "          ..., \n",
       "          [  9.99369043e-01,   2.10319115e-04,   2.10319115e-04, ...,\n",
       "             1.00000000e+00,   9.80132450e-01,   1.00000000e+00],\n",
       "          [  2.10319115e-05,   2.10319115e-05,   9.99936904e-01, ...,\n",
       "             1.00000000e+00,   9.86754967e-01,   1.00000000e+00],\n",
       "          [  2.10319115e-05,   9.99936904e-01,   2.10319115e-05, ...,\n",
       "             1.00000000e+00,   9.93377483e-01,   1.00000000e+00]],\n",
       "  \n",
       "         [[  9.99369043e-01,   2.10319115e-04,   2.10319115e-04, ...,\n",
       "             1.00000000e+00,   0.00000000e+00,   1.00000000e+00],\n",
       "          [  9.98004738e-01,   6.65087438e-04,   6.65087438e-04, ...,\n",
       "             1.00000000e+00,   6.62251656e-03,   1.00000000e+00],\n",
       "          [  9.99369043e-01,   2.10319115e-04,   2.10319115e-04, ...,\n",
       "             1.00000000e+00,   1.32450331e-02,   1.00000000e+00],\n",
       "          ..., \n",
       "          [  2.10319115e-05,   2.10319115e-05,   9.99936904e-01, ...,\n",
       "             1.00000000e+00,   9.80132450e-01,   1.00000000e+00],\n",
       "          [  6.65087438e-04,   6.65087438e-04,   6.65087438e-04, ...,\n",
       "             1.00000000e+00,   9.86754967e-01,   1.00000000e+00],\n",
       "          [  2.10319115e-03,   2.10319115e-03,   9.93690427e-01, ...,\n",
       "             1.00000000e+00,   9.93377483e-01,   1.00000000e+00]]])},\n",
       " array([[[ 1.,  0.],\n",
       "         [ 1.,  0.],\n",
       "         [ 1.,  0.],\n",
       "         ..., \n",
       "         [ 1.,  0.],\n",
       "         [ 1.,  0.],\n",
       "         [ 1.,  0.]],\n",
       " \n",
       "        [[ 1.,  0.],\n",
       "         [ 1.,  0.],\n",
       "         [ 1.,  0.],\n",
       "         ..., \n",
       "         [ 1.,  0.],\n",
       "         [ 1.,  0.],\n",
       "         [ 1.,  0.]],\n",
       " \n",
       "        [[ 1.,  0.],\n",
       "         [ 1.,  0.],\n",
       "         [ 1.,  0.],\n",
       "         ..., \n",
       "         [ 1.,  0.],\n",
       "         [ 1.,  0.],\n",
       "         [ 1.,  0.]],\n",
       " \n",
       "        ..., \n",
       "        [[ 1.,  0.],\n",
       "         [ 1.,  0.],\n",
       "         [ 1.,  0.],\n",
       "         ..., \n",
       "         [ 1.,  0.],\n",
       "         [ 1.,  0.],\n",
       "         [ 1.,  0.]],\n",
       " \n",
       "        [[ 1.,  0.],\n",
       "         [ 1.,  0.],\n",
       "         [ 1.,  0.],\n",
       "         ..., \n",
       "         [ 1.,  0.],\n",
       "         [ 1.,  0.],\n",
       "         [ 1.,  0.]],\n",
       " \n",
       "        [[ 1.,  0.],\n",
       "         [ 1.,  0.],\n",
       "         [ 1.,  0.],\n",
       "         ..., \n",
       "         [ 1.,  0.],\n",
       "         [ 1.,  0.],\n",
       "         [ 1.,  0.]]]))"
      ]
     },
     "execution_count": 27,
     "metadata": {},
     "output_type": "execute_result"
    }
   ],
   "source": [
    "next(generate_train)"
   ]
  },
  {
   "cell_type": "code",
   "execution_count": 18,
   "metadata": {},
   "outputs": [],
   "source": [
    "# tp = train_paths[0]\n",
    "# tp = '/home/tsato/data/tensors/remove-all-error-reads/valid/NA12878_nist_na12878_minimal-HK35M.31_39752710.hd5'\n",
    "# tp = '/home/tsato/data/tensors/remove-all-error-reads/train/NA12878_nist_na12878_minimal-HJYFJ.41_10087305.hd5'\n",
    "tp = '/home/tsato/data/tensors/remove-all-error-reads-mini/train/NA12878_nist_na12878_minimal-HJYFJ.46_1000922.hd5'\n",
    "\n",
    "with h5py.File(tp, 'r') as hf:\n",
    "    tensor = np.array(hf.get(OQ_TENSOR_NAME))\n",
    "    bqsr_tensor = np.array(hf.get(BQSR_TENSOR_NAME))"
   ]
  },
  {
   "cell_type": "code",
   "execution_count": 28,
   "metadata": {},
   "outputs": [
    {
     "name": "stdout",
     "output_type": "stream",
     "text": [
      "(151, 7)\n",
      "(151, 7)\n"
     ]
    },
    {
     "data": {
      "text/plain": [
       "Namespace(activation='relu', activity_weight=1.0, annotation_set='_', annotations=[], bam_file=None, base_quality_mode='phot', batch_size=32, bed_file=None, channels_last=False, chrom=None, conv_batch_normalize=False, conv_dropout=0.0, conv_layers=[128, 128, 128, 128, 128, 128], conv_widths=[5, 5, 5, 5], data_dir='/home/tsato/data/tensors/remove-all-error-reads-mini/', downsample_perfect_reads=0.0, end_pos=0, epochs=25, fc_batch_normalize=False, fc_dropout=0.0, fc_initializer='glorot_normal', fc_layers=[32], fps=1, id='no_id', ignore_vcf=None, input_symbol_set='dna_annotations', input_symbols={'A': 0, 'C': 1, 'G': 2, 'T': 3, 'pair': 4, 'cycle': 5, 'mq': 6}, inspect_model=False, inspect_show_labels=False, iterations=5, jitter=0.0, kernel_initializer='glorot_normal', l1=0.0, l2=0.0, label_smoothing=0.0, label_weights=[0.5, 0.5], labels={'GOOD_BASE': 0, 'BAD_BASE': 1}, learning_rate=0.01, map_input_to_logspace=False, max_pools=[], maxfun=9, mode=None, model=None, out='recalibrated.bam', output_dir='./weights/', padding='same', patience=4, random_seed=12878, read_limit=128, reference_fasta='/dsde/data/deep/vqsr/Homo_sapiens_assembly19.fasta', remove_reads_with_error=True, resnet=False, samples=500, semantics_json='', skip_connections=[0, -1, -2, -3, -4, -5], spatial_dropout=False, start_pos=0, tensor_name='bqsr', test_contigs=['20', '21', 'chr20', 'chr21'], test_ratio=0.2, total_variation=1e-05, training_steps=80, use_original_quality=True, valid_contigs=['18', '19', 'chr18', 'chr19'], valid_ratio=0.1, validation_steps=40, weights_hd5='', window_offset=2, window_size=151)"
      ]
     },
     "execution_count": 28,
     "metadata": {},
     "output_type": "execute_result"
    }
   ],
   "source": [
    "print(tensor.shape)\n",
    "print(bqsr_tensor.shape)\n"
   ]
  },
  {
   "cell_type": "code",
   "execution_count": null,
   "metadata": {
    "collapsed": true
   },
   "outputs": [],
   "source": []
  },
  {
   "cell_type": "code",
   "execution_count": null,
   "metadata": {
    "collapsed": true
   },
   "outputs": [],
   "source": []
  },
  {
   "cell_type": "code",
   "execution_count": null,
   "metadata": {},
   "outputs": [],
   "source": [
    "import pysam\n",
    "import vcf\n",
    "from bqsr_cnn import write_reads_in_region_to_tensors\n",
    "from Bio import SeqIO\n",
    "\n",
    "args.bam_file = '/home/tsato/bam/NA12878.bam'\n",
    "args.ignore_vcf = '/home/tsato/auxiliary/nist_na12878_minimal.vcf.gz'\n",
    "args.bed_file = '/home/tsato/auxiliary/union13callableMQonlymerged_addcert_nouncert_excludesimplerep_excludesegdups_excludedecoy_excludeRepSeqSTRs_noCNVs_v2.18_2mindatasets_5minYesNoRatio.bed'\n",
    "args.reference_fasta = '/home/tsato/reference/Homo_sapiens_assembly19.fasta'\n",
    "\n",
    "samfile = pysam.AlignmentFile(args.bam_file, \"rb\")\n",
    "vcf_ram = vcf.Reader(open(args.ignore_vcf, 'rb'))\n",
    "\n",
    "bed_dict = bqsr_bed_file_to_dict(args.bed_file)\n",
    "record_dict = SeqIO.to_dict(SeqIO.parse(args.reference_fasta, \"fasta\"))\n"
   ]
  },
  {
   "cell_type": "code",
   "execution_count": null,
   "metadata": {
    "collapsed": true
   },
   "outputs": [],
   "source": [
    "write_reads_in_region_to_tensors(args, samfile, contigs[i], c, start, stop - margin, stats)"
   ]
  }
 ],
 "metadata": {
  "kernelspec": {
   "display_name": "Python 3",
   "language": "python",
   "name": "python3"
  },
  "language_info": {
   "codemirror_mode": {
    "name": "ipython",
    "version": 3
   },
   "file_extension": ".py",
   "mimetype": "text/x-python",
   "name": "python",
   "nbconvert_exporter": "python",
   "pygments_lexer": "ipython3",
   "version": "3.6.2"
  }
 },
 "nbformat": 4,
 "nbformat_minor": 2
}
