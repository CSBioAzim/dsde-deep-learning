{
 "cells": [
  {
   "cell_type": "code",
   "execution_count": 2,
   "metadata": {},
   "outputs": [],
   "source": [
    "%matplotlib inline\n",
    "\n",
    "import numpy as np\n",
    "import matplotlib.pyplot as plt\n",
    "\n",
    "from keras.models import load_model\n",
    "import pysam\n",
    "\n",
    "\n",
    "import sys\n",
    "sys.path.insert(0, '../api_tutorials')\n",
    "\n",
    "from bqsr_cnn import parse_args, read_to_bqsr_tensor, bqsr_get_metric_dict, bqsr_bed_file_to_dict, get_forward_oq"
   ]
  },
  {
   "cell_type": "code",
   "execution_count": 2,
   "metadata": {},
   "outputs": [
    {
     "name": "stdout",
     "output_type": "stream",
     "text": [
      "Arguments are Namespace(activation='relu', activity_weight=1.0, annotation_set='_', annotations=[], bam_file=None, base_quality_mode='phot', batch_size=32, bed_file=None, channels_last=False, chrom=None, conv_batch_normalize=False, conv_dropout=0.0, conv_layers=[128, 96, 64, 48], conv_widths=[5, 5, 5, 5], data_dir=None, downsample_perfect_reads=0.0, end_pos=0, epochs=25, fc_batch_normalize=False, fc_dropout=0.0, fc_initializer='glorot_normal', fc_layers=[32], fps=1, id='no_id', ignore_vcf=None, input_symbol_set='dna_annotations', input_symbols={'A': 0, 'C': 1, 'G': 2, 'T': 3, 'pair': 4, 'cycle': 5, 'mq': 6}, inspect_model=False, inspect_show_labels=False, iterations=5, jitter=0.0, kernel_initializer='glorot_normal', l1=0.0, l2=0.0, label_smoothing=0.0, label_weights=[0.5, 0.5], labels={'GOOD_BASE': 0, 'BAD_BASE': 1}, learning_rate=0.01, map_input_to_logspace=False, max_pools=[], maxfun=9, mode=None, model=None, out='recalibrated.bam', output_dir='./weights/', padding='same', patience=4, random_seed=12878, read_limit=128, reference_fasta='/dsde/data/deep/vqsr/Homo_sapiens_assembly19.fasta', resnet=False, samples=500, semantics_json='', spatial_dropout=False, start_pos=0, tensor_name='bqsr', test_contigs=['20', '21', 'chr20', 'chr21'], test_ratio=0.2, total_variation=1e-05, training_steps=80, use_original_quality=True, valid_contigs=['18', '19', 'chr18', 'chr19'], valid_ratio=0.1, validation_steps=40, weights_hd5='', window_offset=2, window_size=151)\n",
      "_________________________________________________________________\n",
      "Layer (type)                 Output Shape              Param #   \n",
      "=================================================================\n",
      "bqsr (InputLayer)            (None, 151, 7)            0         \n",
      "_________________________________________________________________\n",
      "conv1d_1 (Conv1D)            (None, 151, 128)          4608      \n",
      "_________________________________________________________________\n",
      "conv1d_2 (Conv1D)            (None, 151, 128)          82048     \n",
      "_________________________________________________________________\n",
      "conv1d_3 (Conv1D)            (None, 151, 128)          82048     \n",
      "_________________________________________________________________\n",
      "conv1d_4 (Conv1D)            (None, 151, 2)            258       \n",
      "_________________________________________________________________\n",
      "bqsr_labels (Activation)     (None, 151, 2)            0         \n",
      "=================================================================\n",
      "Total params: 168,962\n",
      "Trainable params: 168,962\n",
      "Non-trainable params: 0\n",
      "_________________________________________________________________\n"
     ]
    }
   ],
   "source": [
    "### Manually edit the following files\n",
    "model_file = '/home/tsato/dsde-deep-learning/weights/bqsr_anno_try_6x128_lw09_p50.hd5'\n",
    "sam_file = '/home/tsato/bam/NA12878.bam'\n",
    "ignore_vcf = '/home/tsato/auxiliary/nist_na12878_minimal.vcf.gz'\n",
    "bed_file = '/home/tsato/auxiliary/union13callableMQonlymerged_addcert_nouncert_excludesimplerep_excludesegdups_excludedecoy_excludeRepSeqSTRs_noCNVs_v2.18_2mindatasets_5minYesNoRatio.bed'\n",
    "reference = '/home/tsato/reference/Homo_sapiens_assembly19.fasta'\n",
    "\n",
    "# functions in the bqsr_cnn suite expects the argument builder so do that here\n",
    "sys.argv = ['bqsr_cnn']\n",
    "args = parse_args()\n",
    "\n",
    "\n",
    "model=load_model(model_file, custom_objects=bqsr_get_metric_dict(args.labels))\n",
    "model.summary()\n",
    "sam = pysam.AlignmentFile(sam_file, 'rb')"
   ]
  },
  {
   "cell_type": "code",
   "execution_count": 3,
   "metadata": {
    "collapsed": true
   },
   "outputs": [],
   "source": [
    "from collections import Counter\n",
    "import vcf\n",
    "from Bio import Seq, SeqIO\n",
    "\n",
    "args.bam_file = sam_file\n",
    "args.ignore_vcf = ignore_vcf\n",
    "args.bed_file = bed_file\n",
    "args.reference_fasta = reference\n",
    "args.chrom = ['1','2']\n",
    "\n",
    "stats = Counter()"
   ]
  },
  {
   "cell_type": "code",
   "execution_count": 4,
   "metadata": {
    "collapsed": true
   },
   "outputs": [],
   "source": [
    "samfile = pysam.AlignmentFile(args.bam_file, \"rb\")\n",
    "vcf_ram = vcf.Reader(open(args.ignore_vcf, 'rb'))\n",
    "\n",
    "bed_dict = bqsr_bed_file_to_dict(args.bed_file)\n",
    "record_dict = SeqIO.to_dict(SeqIO.parse(args.reference_fasta, \"fasta\"))"
   ]
  },
  {
   "cell_type": "code",
   "execution_count": 13,
   "metadata": {},
   "outputs": [
    {
     "name": "stdout",
     "output_type": "stream",
     "text": [
      "array('B', [29, 29, 28, 28, 31, 31, 30, 29, 29, 29, 29, 29, 29, 30, 29, 29, 30, 29, 29, 29, 24, 29, 29, 29, 29, 30, 30, 29, 29, 29, 29, 29, 29, 29, 30, 29, 30, 30, 29, 29, 29, 29, 29, 29, 30, 29, 29, 30, 29, 30, 29, 29, 29, 29, 29, 30, 29, 29, 29, 29, 29, 30, 29, 29, 29, 30, 29, 30, 29, 29, 29, 29, 30, 29, 29, 28, 29, 30, 30, 29, 29, 29, 29, 30, 29, 29, 29, 30, 28, 29, 29, 29, 29, 29, 29, 31, 30, 29, 30, 30, 30, 30, 29, 29, 29, 28, 30, 31, 30, 30, 30, 31, 30, 30, 29, 30, 30, 30, 29, 23, 31, 30, 30, 30, 31, 30, 30, 30, 31, 28, 27, 31, 32, 31, 31, 31, 31, 31, 31, 31, 31, 31, 26, 31, 32, 30, 29, 27, 26, 26, 30])\n",
      "array('B', [29, 27, 26, 26, 30])\n",
      "False\n",
      "TAKUTO\n",
      "OTUKAT\n"
     ]
    }
   ],
   "source": [
    "from array import array\n",
    "\n",
    "chrom = '1'\n",
    "start = 100000\n",
    "stop = 200000\n",
    "for read in samfile.fetch(chrom, start, stop):\n",
    "    # print(read.query_qualities)\n",
    "    # print(read.query_qualities[::-1])\n",
    "    oq=get_forward_oq(read)\n",
    "    print(read.get_forward_qualities())\n",
    "    print(read.get_forward_qualities()[-5:])\n",
    "    print(28 in read.get_forward_qualities()[-5:])\n",
    "    break\n",
    "    oq=np.array([ord(elem) for elem in oq])-33\n",
    "    print(array('b', oq))\n",
    "    print(type(oq))\n",
    "    print(read.get_forward_qualities())\n",
    "type(\"ABCE\".encode('ascii'))\n",
    "print(\"TAKUTO\")\n",
    "print(\"TAKUTO\"[::-1])"
   ]
  },
  {
   "cell_type": "code",
   "execution_count": 24,
   "metadata": {
    "collapsed": true
   },
   "outputs": [],
   "source": [
    "margin = args.window_size\n",
    "contigs = [ record_dict[c] for c in args.chrom ]\n",
    "for c in args.chrom:\n",
    "    for start,stop in zip(bed_dict[c][0], bed_dict[c][1]):\n",
    "        if stop - start < args.window_size:\n",
    "            stats['interval too small'] += 1\n",
    "            continue\n",
    "        last_variant = None\n",
    "        for v in vcf_ram.fetch(c, start, stop):\n",
    "            print(v)\n",
    "        break"
   ]
  },
  {
   "cell_type": "code",
   "execution_count": 29,
   "metadata": {},
   "outputs": [
    {
     "data": {
      "text/plain": [
       "dict_keys(['1', '2', '3', '4', '5', '6', '7', '8', '9', '10', '11', '12', '13', '14', '15', '16', '17', '18', '19', '20', '21', '22', 'X', 'Y', 'MT', 'GL000207.1', 'GL000226.1', 'GL000229.1', 'GL000231.1', 'GL000210.1', 'GL000239.1', 'GL000235.1', 'GL000201.1', 'GL000247.1', 'GL000245.1', 'GL000197.1', 'GL000203.1', 'GL000246.1', 'GL000249.1', 'GL000196.1', 'GL000248.1', 'GL000244.1', 'GL000238.1', 'GL000202.1', 'GL000234.1', 'GL000232.1', 'GL000206.1', 'GL000240.1', 'GL000236.1', 'GL000241.1', 'GL000243.1', 'GL000242.1', 'GL000230.1', 'GL000237.1', 'GL000233.1', 'GL000204.1', 'GL000198.1', 'GL000208.1', 'GL000191.1', 'GL000227.1', 'GL000228.1', 'GL000214.1', 'GL000221.1', 'GL000209.1', 'GL000218.1', 'GL000220.1', 'GL000213.1', 'GL000211.1', 'GL000199.1', 'GL000217.1', 'GL000216.1', 'GL000215.1', 'GL000205.1', 'GL000219.1', 'GL000224.1', 'GL000223.1', 'GL000195.1', 'GL000212.1', 'GL000222.1', 'GL000200.1', 'GL000193.1', 'GL000194.1', 'GL000225.1', 'GL000192.1', 'NC_007605'])"
      ]
     },
     "execution_count": 29,
     "metadata": {},
     "output_type": "execute_result"
    }
   ],
   "source": [
    "record_dict.keys()"
   ]
  },
  {
   "cell_type": "code",
   "execution_count": null,
   "metadata": {
    "collapsed": true
   },
   "outputs": [],
   "source": [
    "def bqsr_tensor_to_bqs()"
   ]
  },
  {
   "cell_type": "code",
   "execution_count": 21,
   "metadata": {},
   "outputs": [
    {
     "data": {
      "text/plain": [
       "<matplotlib.figure.Figure at 0x7fd0d17aeb70>"
      ]
     },
     "metadata": {},
     "output_type": "display_data"
    }
   ],
   "source": [
    " # (num_reads, before/after, cycles)\n",
    "num_reads_to_plot = 16\n",
    "count = 0\n",
    "i=0\n",
    "j=0\n",
    "\n",
    "plt.figure(figsize=(32,32), dpi=80)\n",
    "start = int(1e6)\n",
    "end = int(20e6)\n",
    "num_discarded = 0\n",
    "num_reads = 1000\n",
    "s = np.zeros((num_reads, args.window_size))\n",
    "\n",
    "\n",
    "for read in sam.fetch(\"1\", start, end):\n",
    "    if np.random.randn() < 1:\n",
    "        num_discarded += 1\n",
    "        continue\n",
    "    if 'artificial' in read.get_tag('RG').lower():\n",
    "        continue\n",
    "    if not read.is_proper_pair or not read.is_paired:\n",
    "        continue\n",
    "    if read.is_duplicate or read.is_secondary or read.is_supplementary or read.is_qcfail or read.is_unmapped:\n",
    "        continue\n",
    "    if \"S\" in read.cigarstring:\n",
    "        continue\n",
    "    tensor = read_to_bqsr_tensor(read, args)\n",
    "    output = np.squeeze(model.predict(np.expand_dims(tensor, axis=0)))\n",
    "    i=0\n",
    "    s_i = output[:, args.labels['GOOD_BASE']]\n",
    "    s[i] = s_i\n",
    "    i = i+1\n",
    "    if i >= num_reads:\n",
    "        break\n",
    "    \n",
    "\n",
    "    \n",
    "    "
   ]
  },
  {
   "cell_type": "code",
   "execution_count": 6,
   "metadata": {},
   "outputs": [
    {
     "ename": "NameError",
     "evalue": "name 'bqsr_tensor_to_bqs' is not defined",
     "output_type": "error",
     "traceback": [
      "\u001b[0;31m---------------------------------------------------------------------------\u001b[0m",
      "\u001b[0;31mNameError\u001b[0m                                 Traceback (most recent call last)",
      "\u001b[0;32m<ipython-input-6-15ab1be2d945>\u001b[0m in \u001b[0;36m<module>\u001b[0;34m()\u001b[0m\n\u001b[1;32m     26\u001b[0m    \u001b[0mplt\u001b[0m\u001b[0;34m.\u001b[0m\u001b[0msubplot\u001b[0m\u001b[0;34m(\u001b[0m\u001b[0;36m4\u001b[0m\u001b[0;34m,\u001b[0m \u001b[0;36m4\u001b[0m\u001b[0;34m,\u001b[0m \u001b[0mi\u001b[0m\u001b[0;34m)\u001b[0m\u001b[0;34m\u001b[0m\u001b[0m\n\u001b[1;32m     27\u001b[0m    \u001b[0mbefore\u001b[0m \u001b[0;34m=\u001b[0m \u001b[0mread\u001b[0m\u001b[0;34m.\u001b[0m\u001b[0mquery_qualities\u001b[0m\u001b[0;34m\u001b[0m\u001b[0m\n\u001b[0;32m---> 28\u001b[0;31m    \u001b[0mafter\u001b[0m \u001b[0;34m=\u001b[0m \u001b[0mbqsr_tensor_to_bqs\u001b[0m\u001b[0;34m(\u001b[0m\u001b[0mnp\u001b[0m\u001b[0;34m.\u001b[0m\u001b[0msqueeze\u001b[0m\u001b[0;34m(\u001b[0m\u001b[0mrecalibrated_tensor\u001b[0m\u001b[0;34m)\u001b[0m\u001b[0;34m,\u001b[0m \u001b[0margs\u001b[0m\u001b[0;34m)\u001b[0m \u001b[0;31m# after\u001b[0m\u001b[0;34m\u001b[0m\u001b[0m\n\u001b[0m\u001b[1;32m     29\u001b[0m    \u001b[0mplt\u001b[0m\u001b[0;34m.\u001b[0m\u001b[0mplot\u001b[0m\u001b[0;34m(\u001b[0m\u001b[0mnp\u001b[0m\u001b[0;34m.\u001b[0m\u001b[0marange\u001b[0m\u001b[0;34m(\u001b[0m\u001b[0;36m151\u001b[0m\u001b[0;34m)\u001b[0m\u001b[0;34m,\u001b[0m \u001b[0mbefore\u001b[0m\u001b[0;34m,\u001b[0m \u001b[0mlabel\u001b[0m \u001b[0;34m=\u001b[0m \u001b[0;34m\"before\"\u001b[0m\u001b[0;34m)\u001b[0m\u001b[0;34m\u001b[0m\u001b[0m\n\u001b[1;32m     30\u001b[0m    \u001b[0mplt\u001b[0m\u001b[0;34m.\u001b[0m\u001b[0mplot\u001b[0m\u001b[0;34m(\u001b[0m\u001b[0mnp\u001b[0m\u001b[0;34m.\u001b[0m\u001b[0marange\u001b[0m\u001b[0;34m(\u001b[0m\u001b[0;36m151\u001b[0m\u001b[0;34m)\u001b[0m\u001b[0;34m,\u001b[0m \u001b[0mafter\u001b[0m\u001b[0;34m,\u001b[0m \u001b[0mlabel\u001b[0m \u001b[0;34m=\u001b[0m \u001b[0;34m\"after\"\u001b[0m\u001b[0;34m)\u001b[0m\u001b[0;34m\u001b[0m\u001b[0m\n",
      "\u001b[0;31mNameError\u001b[0m: name 'bqsr_tensor_to_bqs' is not defined"
     ]
    },
    {
     "data": {
      "image/png": "[encoded data removed]",
      "text/plain": [
       "<matplotlib.figure.Figure at 0x7fa9121f89b0>"
      ]
     },
     "metadata": {},
     "output_type": "display_data"
    }
   ],
   "source": [
    "for read in sam.fetch(\"1\", start, end):\n",
    "    if np.random.randn() < 1:\n",
    "        num_discarded += 1\n",
    "        continue\n",
    "    if 'artificial' in read.get_tag('RG').lower():\n",
    "        continue\n",
    "    if not read.is_proper_pair or not read.is_paired:\n",
    "        continue\n",
    "    if read.is_duplicate or read.is_secondary or read.is_supplementary or read.is_qcfail or read.is_unmapped:\n",
    "        continue\n",
    "    if \"S\" in read.cigarstring:\n",
    "        continue\n",
    "    tensor = read_to_bqsr_tensor(read, args)\n",
    "    recalibrated_tensor = model.predict(np.expand_dims(tensor, axis=0))\n",
    "    plt.subplot(4, 4, i)\n",
    "    before = read.query_qualities\n",
    "    after = bqsr_tensor_to_bqs(np.squeeze(recalibrated_tensor), args) # after\n",
    "    plt.plot(np.arange(151), before, label = \"before\")\n",
    "    plt.plot(np.arange(151), after, label = \"after\")\n",
    "    plt.legend()\n",
    "    plt.title(read.pos)\n",
    "    i += 1\n",
    "    if i > num_reads_to_plot:\n",
    "        break\n",
    "    # recalibrated_read = bqsr_tensor_to_read(tensor, args)\n",
    "print(i)\n",
    "print(num_discarded)"
   ]
  },
  {
   "cell_type": "code",
   "execution_count": 70,
   "metadata": {
    "collapsed": true
   },
   "outputs": [],
   "source": [
    "import os\n",
    "import h5py\n",
    "\n",
    "args.batch_size = 2\n",
    "tensor = np.zeros((args.batch_size, args.window_size, len(args.input_symbols)))\n",
    "label_matrix = np.zeros((args.batch_size, args.window_size, len(args.labels)))\n",
    "\n",
    "\n",
    "train_dir=\"/home/tsato/data/tensors/bqsr_forward/train/\"\n",
    "train_paths = [train_dir + tp for tp in os.listdir(train_dir)]\n",
    "i=0\n",
    "for tp in train_paths:\n",
    "    if i >= args.batch_size:\n",
    "        break\n",
    "    try:\n",
    "        with h5py.File(tp, 'r') as hf:\n",
    "            tensor[i] = np.array(hf.get(args.tensor_name))\n",
    "            use_log_input = True\n",
    "            if use_log_input:\n",
    "                log_tmp = np.log(tensor[i,:,:4])\n",
    "                tensor[i,:,:4] = log_tmp\n",
    "            label_matrix[i] = np.array(hf.get('bqsr_labels'))\n",
    "            i = i+1\n",
    "    except Exception as e:\n",
    "        print('Exception for tensor at:', tp, '\\n\\n\\nError is:', str(e))\n",
    "        print('Expected tensor shape:', (args.batch_size, args.window_size, len(args.input_symbols))) #, 'but received shape:', np.array(hf.get('read_tensor')).shape)\n",
    "        print('Expected site labels shape:',(args.window_size, len(args.labels))) #, 'received:', np.array(hf.get('site_labels')).shape)\n",
    "        raise Exception('bad tensor')\n",
    "        #continue\n",
    "    "
   ]
  },
  {
   "cell_type": "code",
   "execution_count": 77,
   "metadata": {},
   "outputs": [
    {
     "data": {
      "text/plain": [
       "array([-3062.35420723, -3048.5968648 ])"
      ]
     },
     "execution_count": 77,
     "metadata": {},
     "output_type": "execute_result"
    }
   ],
   "source": [
    "np.sum(tensor, axis = (1,2)) "
   ]
  },
  {
   "cell_type": "code",
   "execution_count": null,
   "metadata": {
    "collapsed": true
   },
   "outputs": [],
   "source": []
  }
 ],
 "metadata": {
  "kernelspec": {
   "display_name": "Python 3",
   "language": "python",
   "name": "python3"
  },
  "language_info": {
   "codemirror_mode": {
    "name": "ipython",
    "version": 3
   },
   "file_extension": ".py",
   "mimetype": "text/x-python",
   "name": "python",
   "nbconvert_exporter": "python",
   "pygments_lexer": "ipython3",
   "version": "3.6.2"
  }
 },
 "nbformat": 4,
 "nbformat_minor": 2
}
