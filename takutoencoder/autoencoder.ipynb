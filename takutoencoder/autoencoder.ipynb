{
 "cells": [
  {
   "cell_type": "code",
   "execution_count": 2,
   "metadata": {},
   "outputs": [],
   "source": [
    "%matplotlib inline\n",
    "\n",
    "import numpy as np\n",
    "import keras\n",
    "import matplotlib.pyplot as plt\n",
    "import pysam\n",
    "import argparse\n",
    "import h5py\n",
    "from array import array\n",
    "        \n",
    "from keras.datasets import mnist, cifar10\n",
    "from keras.layers import Input, Dense\n",
    "from keras.models import Model\n"
   ]
  },
  {
   "cell_type": "code",
   "execution_count": 53,
   "metadata": {},
   "outputs": [],
   "source": [
    "#### Filepaths\n",
    "grch38 = \"/seq/references/Homo_sapiens_assembly38/v0/Homo_sapiens_assembly38.fasta\"\n",
    "cram = \"/dsde/data/datasets/SnapShotExperiment2015/CEUTrio/Alignments/G94982.NA12878/NA12878.cram\"\n",
    "samfile = pysam.AlignmentFile(cram, \"rc\", reference_filename = grch38)\t# \"rb\" for bam, \"rc\" for cram\n",
    "\n",
    "tr_file_name=\"/dsde/data/deep/takutoencoder/x_tr.npy\"\n",
    "test_file_name=\"/dsde/data/deep/takutoencoder/x_test.npy\""
   ]
  },
  {
   "cell_type": "code",
   "execution_count": 4,
   "metadata": {},
   "outputs": [],
   "source": [
    "#### Set parameters\n",
    "p_sampling = 0.5\n",
    "num_tr_examples = int(1e6)\n",
    "num_test_examples = int(1e4)\n",
    "read_length = 151"
   ]
  },
  {
   "cell_type": "code",
   "execution_count": 42,
   "metadata": {},
   "outputs": [],
   "source": [
    "#### Helper Functions\n",
    "\n",
    "def qc_read(read):\n",
    "    ''' Given a read decide whether it's a good read '''\n",
    "    read_group = read.get_tag('RG')\n",
    "    if 'artificial' in read_group.lower():\n",
    "        return False\n",
    "    elif not read.is_proper_pair or not read.is_paired:\n",
    "        return False\n",
    "    elif read.is_duplicate or read.is_secondary or read.is_supplementary or read.is_qcfail or read.is_unmapped:\n",
    "        return False\n",
    "    \n",
    "    return True"
   ]
  },
  {
   "cell_type": "code",
   "execution_count": 38,
   "metadata": {},
   "outputs": [
    {
     "ename": "ValueError",
     "evalue": "could not broadcast input array from shape (101) into shape (151)",
     "output_type": "error",
     "traceback": [
      "\u001b[0;31m---------------------------------------------------------------------------\u001b[0m",
      "\u001b[0;31mValueError\u001b[0m                                Traceback (most recent call last)",
      "\u001b[0;32m<ipython-input-38-12cf16e41334>\u001b[0m in \u001b[0;36m<module>\u001b[0;34m()\u001b[0m\n\u001b[1;32m     34\u001b[0m     \u001b[0mbqs\u001b[0m \u001b[0;34m=\u001b[0m \u001b[0mnp\u001b[0m\u001b[0;34m.\u001b[0m\u001b[0marray\u001b[0m\u001b[0;34m(\u001b[0m\u001b[0mlist\u001b[0m\u001b[0;34m(\u001b[0m\u001b[0mreversed\u001b[0m\u001b[0;34m(\u001b[0m\u001b[0mread\u001b[0m\u001b[0;34m.\u001b[0m\u001b[0mquery_qualities\u001b[0m\u001b[0;34m)\u001b[0m\u001b[0;34m)\u001b[0m\u001b[0;34m)\u001b[0m \u001b[0;32mif\u001b[0m \u001b[0mread\u001b[0m\u001b[0;34m.\u001b[0m\u001b[0mis_reverse\u001b[0m \u001b[0;32melse\u001b[0m \u001b[0mnp\u001b[0m\u001b[0;34m.\u001b[0m\u001b[0marray\u001b[0m\u001b[0;34m(\u001b[0m\u001b[0mread\u001b[0m\u001b[0;34m.\u001b[0m\u001b[0mquery_qualities\u001b[0m\u001b[0;34m)\u001b[0m\u001b[0;34m\u001b[0m\u001b[0m\n\u001b[1;32m     35\u001b[0m     \u001b[0;32mif\u001b[0m \u001b[0;34m(\u001b[0m\u001b[0mi\u001b[0m \u001b[0;34m<\u001b[0m \u001b[0mnum_tr_examples\u001b[0m\u001b[0;34m)\u001b[0m\u001b[0;34m:\u001b[0m\u001b[0;34m\u001b[0m\u001b[0m\n\u001b[0;32m---> 36\u001b[0;31m         \u001b[0mX_tr\u001b[0m\u001b[0;34m[\u001b[0m\u001b[0mi\u001b[0m\u001b[0;34m]\u001b[0m \u001b[0;34m=\u001b[0m \u001b[0mbqs\u001b[0m\u001b[0;34m\u001b[0m\u001b[0m\n\u001b[0m\u001b[1;32m     37\u001b[0m         \u001b[0mi\u001b[0m \u001b[0;34m+=\u001b[0m \u001b[0;36m1\u001b[0m\u001b[0;34m\u001b[0m\u001b[0m\n\u001b[1;32m     38\u001b[0m         \u001b[0;32mcontinue\u001b[0m\u001b[0;34m\u001b[0m\u001b[0m\n",
      "\u001b[0;31mValueError\u001b[0m: could not broadcast input array from shape (101) into shape (151)"
     ]
    }
   ],
   "source": [
    "#### Training\n",
    "contig = \"chr1\"\n",
    "X_tr = np.zeros((num_tr_examples, read_length))\n",
    "X_test = np.zeros((num_test_examples, read_length))\n",
    "i=0\n",
    "j=0\n",
    "\n",
    "for read in samfile.fetch(contig):\n",
    "    if i == num_tr_examples + num_test_examples:\n",
    "        break;\n",
    "    \n",
    "    # QC the reads\n",
    "    if not qc_read(read):\n",
    "        continue  \n",
    "\n",
    "    # randomly sample from among the good reads\n",
    "    dice = np.random.rand()\n",
    "    if dice > p_sampling:\n",
    "        continue    \n",
    "        \n",
    "    bqs = np.array(list(reversed(read.query_qualities))) if read.is_reverse else np.array(read.query_qualities)\n",
    "    if (i < num_tr_examples):\n",
    "        X_tr[i] = bqs\n",
    "        i += 1\n",
    "        continue\n",
    "    else: \n",
    "        X_test[j] = bqs\n",
    "        j += 1\n",
    "        i += 1\n",
    "\n",
    "np.save(tr_file_name, X_tr)\n",
    "np.save(test_file_name, X_test)"
   ]
  },
  {
   "cell_type": "code",
   "execution_count": 19,
   "metadata": {},
   "outputs": [
    {
     "name": "stdout",
     "output_type": "stream",
     "text": [
      "[0. 0. 0. 0. 0. 0. 0. 0. 0. 0. 0. 0. 0. 0. 0. 0. 0. 0. 0. 0. 0. 0. 0. 0.\n",
      " 0. 0. 0. 0. 0. 0. 0. 0. 0. 0. 0. 0. 0. 0. 0. 0. 0. 0. 0. 0. 0. 0. 0. 0.\n",
      " 0. 0. 0. 0. 0. 0. 0. 0. 0. 0. 0. 0. 0. 0. 0. 0. 0. 0. 0. 0. 0. 0. 0. 0.\n",
      " 0. 0. 0. 0. 0. 0. 0. 0. 0. 0. 0. 0. 0. 0. 0. 0. 0. 0. 0. 0. 0. 0. 0. 0.\n",
      " 0. 0. 0. 0. 0. 0. 0. 0. 0. 0. 0. 0. 0. 0. 0. 0. 0. 0. 0. 0. 0. 0. 0. 0.\n",
      " 0. 0. 0. 0. 0. 0. 0. 0. 0. 0. 0. 0. 0. 0. 0. 0. 0. 0. 0. 0. 0. 0. 0. 0.\n",
      " 0. 0. 0. 0. 0. 0. 0.]\n",
      "(1000000, 151)\n"
     ]
    }
   ],
   "source": [
    "print X_tr[num_tr_examples-1]\n",
    "print X_tr.shape"
   ]
  },
  {
   "cell_type": "code",
   "execution_count": 5,
   "metadata": {},
   "outputs": [],
   "source": [
    "# if the test data has been created already, start here\n",
    "X_tr = np.load(tr_file_name)\n",
    "X_test = np.load(test_file_name)"
   ]
  },
  {
   "cell_type": "code",
   "execution_count": 6,
   "metadata": {},
   "outputs": [],
   "source": [
    "# take the sample code from https://blog.keras.io/building-autoencoders-in-keras.html\n",
    "\n",
    "# this is the size of our encoded representations\n",
    "encoding_dim = 32\n",
    "\n",
    "input_qualities = Input(shape=(read_length,))\n",
    "encoded = Dense(encoding_dim, activation='relu')(input_qualities)\n",
    "decoded = Dense(read_length, activation='linear')(encoded)\n",
    "\n",
    "# this model maps an input to its reconstruction\n",
    "autoencoder = Model(input_qualities, decoded)"
   ]
  },
  {
   "cell_type": "code",
   "execution_count": 7,
   "metadata": {},
   "outputs": [],
   "source": [
    "# separate encoder model\n",
    "encoder = Model(input_qualities, encoded)\n",
    "\n",
    "# create a placeholder for an encoded (32-dimensional) input\n",
    "encoded_input = Input(shape=(encoding_dim,))\n",
    "\n",
    "# retrieve the last layer of the autoencoder model\n",
    "decoder_layer = autoencoder.layers[-1]\n",
    "\n",
    "# create the decoder model\n",
    "decoder = Model(encoded_input, decoder_layer(encoded_input))"
   ]
  },
  {
   "cell_type": "code",
   "execution_count": 8,
   "metadata": {},
   "outputs": [],
   "source": [
    "autoencoder.compile(optimizer='adadelta', loss='mean_squared_error')"
   ]
  },
  {
   "cell_type": "code",
   "execution_count": 9,
   "metadata": {},
   "outputs": [
    {
     "name": "stdout",
     "output_type": "stream",
     "text": [
      "Train on 1000000 samples, validate on 10000 samples\n",
      "Epoch 1/10\n",
      "1000000/1000000 [==============================] - 7s 7us/step - loss: 23.0547 - val_loss: 14.5792\n",
      "Epoch 2/10\n",
      "1000000/1000000 [==============================] - 6s 6us/step - loss: 16.9358 - val_loss: 15.0257\n",
      "Epoch 3/10\n",
      "1000000/1000000 [==============================] - 6s 6us/step - loss: 16.6843 - val_loss: 14.1843\n",
      "Epoch 4/10\n",
      "1000000/1000000 [==============================] - 6s 6us/step - loss: 15.1918 - val_loss: 13.4349\n",
      "Epoch 5/10\n",
      "1000000/1000000 [==============================] - 7s 7us/step - loss: 15.9729 - val_loss: 14.2730\n",
      "Epoch 6/10\n",
      "1000000/1000000 [==============================] - 7s 7us/step - loss: 16.8950 - val_loss: 15.7329\n",
      "Epoch 7/10\n",
      "1000000/1000000 [==============================] - 7s 7us/step - loss: 17.4059 - val_loss: 15.0702\n",
      "Epoch 8/10\n",
      "1000000/1000000 [==============================] - 7s 7us/step - loss: 17.5909 - val_loss: 16.8396\n",
      "Epoch 9/10\n",
      "1000000/1000000 [==============================] - 7s 7us/step - loss: 17.4809 - val_loss: 14.2525\n",
      "Epoch 10/10\n",
      "1000000/1000000 [==============================] - 7s 7us/step - loss: 16.8631 - val_loss: 15.3540\n"
     ]
    },
    {
     "data": {
      "text/plain": [
       "<keras.callbacks.History at 0x11e484710>"
      ]
     },
     "execution_count": 9,
     "metadata": {},
     "output_type": "execute_result"
    }
   ],
   "source": [
    "autoencoder.fit(X_tr, X_tr,\n",
    "                epochs=4,\n",
    "                batch_size=256,\n",
    "                shuffle=True,\n",
    "                validation_data=(X_test, X_test))"
   ]
  },
  {
   "cell_type": "code",
   "execution_count": 10,
   "metadata": {},
   "outputs": [],
   "source": [
    "model_path = \"/Users/tsato/workspace/dsde-deep-learning/takutoencoder/vanilla.h5\"\n",
    "autoencoder.save(model_path)"
   ]
  },
  {
   "cell_type": "code",
   "execution_count": 14,
   "metadata": {},
   "outputs": [
    {
     "name": "stdout",
     "output_type": "stream",
     "text": [
      "_________________________________________________________________\n",
      "Layer (type)                 Output Shape              Param #   \n",
      "=================================================================\n",
      "input_1 (InputLayer)         (None, 151)               0         \n",
      "_________________________________________________________________\n",
      "dense_1 (Dense)              (None, 32)                4864      \n",
      "_________________________________________________________________\n",
      "dense_2 (Dense)              (None, 151)               4983      \n",
      "=================================================================\n",
      "Total params: 9,847\n",
      "Trainable params: 9,847\n",
      "Non-trainable params: 0\n",
      "_________________________________________________________________\n",
      "_________________________________________________________________\n",
      "Layer (type)                 Output Shape              Param #   \n",
      "=================================================================\n",
      "input_1 (InputLayer)         (None, 151)               0         \n",
      "_________________________________________________________________\n",
      "dense_1 (Dense)              (None, 32)                4864      \n",
      "=================================================================\n",
      "Total params: 4,864\n",
      "Trainable params: 4,864\n",
      "Non-trainable params: 0\n",
      "_________________________________________________________________\n",
      "_________________________________________________________________\n",
      "Layer (type)                 Output Shape              Param #   \n",
      "=================================================================\n",
      "input_2 (InputLayer)         (None, 32)                0         \n",
      "_________________________________________________________________\n",
      "dense_2 (Dense)              (None, 151)               4983      \n",
      "=================================================================\n",
      "Total params: 4,983\n",
      "Trainable params: 4,983\n",
      "Non-trainable params: 0\n",
      "_________________________________________________________________\n"
     ]
    }
   ],
   "source": [
    "autoencoder.summary()\n",
    "encoder.summary()\n",
    "decoder.summary()"
   ]
  },
  {
   "cell_type": "code",
   "execution_count": 44,
   "metadata": {},
   "outputs": [],
   "source": [
    "N_plot = 300\n",
    "X = np.zeros((N_plot, read_length))\n",
    "Y = np.zeros((N_plot, read_length))\n",
    "i = 0\n",
    "start_pos = int(30e6) # advance enough reads so we don't reuse same data as training \n",
    "for read in samfile.fetch('chr2'):\n",
    "    if (i >= N_plot):\n",
    "        break\n",
    "    # must change from (151,) to (1, 151)...there has got to be a better way?\n",
    "    orig_bqs = np.reshape(np.array(read.query_qualities), (1, read_length))\n",
    "    new_bqs = autoencoder.predict(orig_bqs)\n",
    "    X[i] = orig_bqs\n",
    "    Y[i] = new_bqs\n",
    "    i += 1"
   ]
  },
  {
   "cell_type": "code",
   "execution_count": null,
   "metadata": {},
   "outputs": [],
   "source": [
    "# compress and write a new sam file\n",
    "new_samfile_path = \"/dsde/data/deep/takutoencoder/output/NA12878.cram\"\n",
    "new_samfile = pysam.AlignmentFile(new_samfile_path, \"wc\", template=samfile, reference_filename = grch38)\n",
    "\n",
    "i = 0\n",
    "for read in samfile.fetch('chr22'):\n",
    "    if qc_read(read):  \n",
    "        orig_bqs = np.reshape(np.array(read.query_qualities), (1, read_length))\n",
    "        new_bqs = autoencoder.predict(orig_bqs).reshape(151).astype(int).clip(min = 2)\n",
    "        read.query_qualities = array('b', new_bqs)\n",
    "        i += 1\n",
    "    new_samfile.write(read)"
   ]
  },
  {
   "cell_type": "markdown",
   "metadata": {},
   "source": [
    "## print samfile\n",
    "/dsde/data/deep/takutoencoder/output/NA12878.cra"
   ]
  },
  {
   "cell_type": "code",
   "execution_count": 25,
   "metadata": {},
   "outputs": [
    {
     "data": {
      "text/plain": [
       "array('b', [1, 1, 1, 1, 1, 1, 1, 1, 1, 1, 1, 1, 1, 1, 1])"
      ]
     },
     "execution_count": 25,
     "metadata": {},
     "output_type": "execute_result"
    }
   ],
   "source": [
    "wuns = np.ones(15, dtype = int)\n",
    "array('b', wuns)"
   ]
  },
  {
   "cell_type": "code",
   "execution_count": 23,
   "metadata": {},
   "outputs": [
    {
     "data": {
      "text/plain": [
       "array([1, 1, 1, 1, 1, 1, 1, 1, 1, 1, 1, 1, 1, 1, 1])"
      ]
     },
     "execution_count": 23,
     "metadata": {},
     "output_type": "execute_result"
    }
   ],
   "source": [
    "np.ones(15, dtype=int)"
   ]
  },
  {
   "cell_type": "code",
   "execution_count": null,
   "metadata": {},
   "outputs": [],
   "source": []
  }
 ],
 "metadata": {
  "kernelspec": {
   "display_name": "Python 2",
   "language": "python",
   "name": "python2"
  },
  "language_info": {
   "codemirror_mode": {
    "name": "ipython",
    "version": 2
   },
   "file_extension": ".py",
   "mimetype": "text/x-python",
   "name": "python",
   "nbconvert_exporter": "python",
   "pygments_lexer": "ipython2",
   "version": "2.7.10"
  }
 },
 "nbformat": 4,
 "nbformat_minor": 2
}
